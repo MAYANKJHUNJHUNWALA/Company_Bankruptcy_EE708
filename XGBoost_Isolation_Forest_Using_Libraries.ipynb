{
  "nbformat": 4,
  "nbformat_minor": 0,
  "metadata": {
    "colab": {
      "provenance": []
    },
    "kernelspec": {
      "name": "python3",
      "display_name": "Python 3"
    },
    "language_info": {
      "name": "python"
    }
  },
  "cells": [
    {
      "cell_type": "code",
      "execution_count": 1,
      "metadata": {
        "colab": {
          "base_uri": "https://localhost:8080/"
        },
        "id": "EEWQ82sbHl7N",
        "outputId": "62614509-da2a-4b3e-f98f-59d5d2ce19c5"
      },
      "outputs": [
        {
          "output_type": "stream",
          "name": "stderr",
          "text": [
            "/usr/local/lib/python3.11/dist-packages/xgboost/core.py:158: UserWarning: [20:09:22] WARNING: /workspace/src/learner.cc:740: \n",
            "Parameters: { \"use_label_encoder\" } are not used.\n",
            "\n",
            "  warnings.warn(smsg, UserWarning)\n"
          ]
        }
      ],
      "source": [
        "import pandas as pd\n",
        "import numpy as np\n",
        "from sklearn.ensemble import IsolationForest\n",
        "from sklearn.model_selection import train_test_split\n",
        "from sklearn.metrics import classification_report, precision_recall_curve, auc\n",
        "from xgboost import XGBClassifier\n",
        "\n",
        "# Load dataset\n",
        "df = pd.read_csv(\"Train.csv\")  # Replace with your actual dataset\n",
        "\n",
        "# Split target and features\n",
        "y = df.iloc[:, 0]   # First column is the target variable\n",
        "X = df.iloc[:, 1:]  # Remaining columns are features\n",
        "\n",
        "# Train-Test Split\n",
        "X_train, X_test, y_train, y_test = train_test_split(X, y, test_size=0.2, stratify=y, random_state=42)\n",
        "\n",
        "# Train Isolation Forest\n",
        "iso_forest = IsolationForest(n_estimators=200, contamination=0.028, random_state=42)\n",
        "iso_forest.fit(X_train)\n",
        "\n",
        "# Generate Anomaly Scores as a New Feature\n",
        "X_train[\"anomaly_score\"] = iso_forest.decision_function(X_train)\n",
        "X_test[\"anomaly_score\"] = iso_forest.decision_function(X_test)\n",
        "\n",
        "# Train XGBoost Model\n",
        "xgb_model = XGBClassifier(scale_pos_weight=(y_train.value_counts()[0] / y_train.value_counts()[1]),\n",
        "                          eval_metric=\"logloss\", use_label_encoder=False)\n",
        "xgb_model.fit(X_train, y_train)\n",
        "\n",
        "# Predict Probabilities\n",
        "y_pred_prob = xgb_model.predict_proba(X_test)[:, 1]\n",
        "\n"
      ]
    },
    {
      "cell_type": "code",
      "source": [
        "# Adjust Decision Threshold\n",
        "threshold = 0.4  # Tune this value based on PR curve\n",
        "y_pred = (y_pred_prob >= threshold).astype(int)\n",
        "\n",
        "# Evaluation\n",
        "print(classification_report(y_test, y_pred))\n",
        "\n",
        "# Precision-Recall AUC\n",
        "precision, recall, _ = precision_recall_curve(y_test, y_pred_prob)\n",
        "pr_auc = auc(recall, precision)\n",
        "print(f\"Precision-Recall AUC: {pr_auc:.4f}\")\n"
      ],
      "metadata": {
        "colab": {
          "base_uri": "https://localhost:8080/"
        },
        "id": "Qsc3icRyHowm",
        "outputId": "ce1564a0-040d-4f11-acff-ee313085fa1c"
      },
      "execution_count": 2,
      "outputs": [
        {
          "output_type": "stream",
          "name": "stdout",
          "text": [
            "              precision    recall  f1-score   support\n",
            "\n",
            "           0       0.98      0.99      0.99      1060\n",
            "           1       0.58      0.48      0.53        31\n",
            "\n",
            "    accuracy                           0.98      1091\n",
            "   macro avg       0.78      0.74      0.76      1091\n",
            "weighted avg       0.97      0.98      0.97      1091\n",
            "\n",
            "Precision-Recall AUC: 0.5189\n"
          ]
        }
      ]
    }
  ]
}